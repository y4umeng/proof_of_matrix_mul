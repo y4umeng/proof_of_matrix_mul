{
 "cells": [
  {
   "cell_type": "code",
   "execution_count": null,
   "metadata": {},
   "outputs": [
    {
     "name": "stdout",
     "output_type": "stream",
     "text": [
      "C.shape:  torch.Size([4000, 4000])\n",
      "shape of sampled_A:  torch.Size([4, 4000])\n",
      "sampled_C.shape:  torch.Size([4, 40])\n",
      "torch.Size([4, 40])\n",
      "True\n"
     ]
    }
   ],
   "source": [
    "import torch\n",
    "import random\n",
    "\n",
    "# seed setup\n",
    "torch.manual_seed(42)\n",
    "random.seed(42)\n",
    "\n",
    "# WORK FROM PROVER \n",
    "\n",
    "# Assume that this has already passed the 10% check\n",
    "# if random.random() < 0.1:\n",
    "\n",
    "\n",
    "# B is known to both parties\n",
    "# A is only known to the prover\n",
    "A = torch.randn(4000,4000) # activations\n",
    "B = torch.randn(4000,4000) # public weight matrix\n",
    "\n",
    "# full matmul\n",
    "C = A@B\n",
    "\n",
    "print(\"C.shape: \",C.shape)\n",
    "\n",
    "n_rows = C.shape[0]\n",
    "n_cols=C.shape[1]\n",
    "\n",
    "# amount of rows and columns to sample\n",
    "n_row_samples = int(n_rows*0.001)\n",
    "n_col_samples = int(n_cols * 0.01)\n",
    "\n",
    "# sampling random row and column indices\n",
    "row_indices=torch.randperm(n_rows)[:n_row_samples]\n",
    "col_indices = torch.randperm(n_cols)[:n_col_samples]\n",
    "\n",
    "# MATRICES TO BE SENT OVER\n",
    "sampled_A = A[row_indices] \n",
    "sampled_C = C[row_indices][:,col_indices] # VALUES TO BE CHECKED.\n",
    "\n",
    "\n",
    "print(\"shape of sampled_A: \",sampled_A.shape)\n",
    "print(\"sampled_C.shape: \",sampled_C.shape) \n",
    "\n",
    "# VERIFIER SIDE RECOMPUTATION\n",
    "sampled_B = B[:,col_indices]\n",
    "\n",
    "mat = sampled_A @ sampled_B\n",
    "print(mat.shape)\n",
    "\n",
    "\n",
    "passed = torch.allclose(mat, sampled_C)\n",
    "print(passed)"
   ]
  },
  {
   "cell_type": "code",
   "execution_count": null,
   "metadata": {},
   "outputs": [
    {
     "name": "stdout",
     "output_type": "stream",
     "text": [
      "[Verifier] layer 3  passed? False\n"
     ]
    }
   ],
   "source": [
    "\"\"\"\n",
    "Toy prover ↔ verifier stream for the long-context audit scheme.\n",
    "\n",
    " * One TCP connection per sampled matmul.\n",
    " * Payload contains ONLY\n",
    "       - sampled_A  (fp16 rows)\n",
    "       - sampled_C  (fp16 scalars)\n",
    "       - layer_idx  (uint16 for now)\n",
    " * Indices are *not* sent; the verifier regenerates them with the same PRNG.\n",
    "\n",
    "Run this file as-is: first it starts the verifier thread, then the prover\n",
    "connects, pushes its bytes, and you should see “verification passed? True”.\n",
    "\"\"\"\n",
    "\n",
    "import socket, struct, threading, time, random, torch\n",
    "import numpy as np\n",
    "\n",
    "# ---------------- 0.  GLOBAL CONSTANTS & SEED  --------------------\n",
    "HOST, PORT       = \"127.0.0.1\", 1234 # loopback → no firewall friction\n",
    "GLOBAL_SEED      = 42                      # shared PRNG seed\n",
    "LAYER_IDX        = 3                       # hard-coded for this toy demo\n",
    "\n",
    "torch.manual_seed(GLOBAL_SEED)\n",
    "random.seed(GLOBAL_SEED)\n",
    "\n",
    "# ---------------- 1.  PROVER CALCULATES ITS SAMPLES  -------------\n",
    "d = 4000\n",
    "A = torch.randn(d, d)          # activations (private to prover)\n",
    "B = torch.randn(d, d)          # weights (public / verifier also has)\n",
    "\n",
    "C = A @ B                      # full matmul\n",
    "\n",
    "# mask:   0.1 % rows , 1 % cols\n",
    "rng = random.Random(GLOBAL_SEED)\n",
    "row_idx = torch.tensor(rng.sample(range(d), int(d*0.001)))\n",
    "col_idx = torch.tensor(rng.sample(range(d), int(d*0.01)))\n",
    "# row_idx = torch.randperm(d)[: int(d * 0.001)]      # 4 rows\n",
    "# col_idx = torch.randperm(d)[: int(d * 0.01)]       # 40 columns\n",
    "\n",
    "sampled_A = A[row_idx]                             # 4 × 4000\n",
    "sampled_C = C[row_idx][:, col_idx]                 # 4 × 40\n",
    "\n",
    "# ---------------- 2.  VERIFIER SERVER THREAD  --------------------\n",
    "def verifier_server(B_public, d):\n",
    "    \"\"\"\n",
    "    Bare-bones TCP listener.\n",
    "    Waits for one blob, checks it, prints result, then exits.\n",
    "    \"\"\"\n",
    "\n",
    "    # ---- helper: recv exactly n bytes or die ----\n",
    "    def recvall(sock, n):\n",
    "        buf = bytearray()\n",
    "        while len(buf) < n:\n",
    "            chunk = sock.recv(n - len(buf))\n",
    "            if not chunk:              # connection closed too early\n",
    "                raise RuntimeError(\"socket closed\")\n",
    "            buf.extend(chunk)\n",
    "        return bytes(buf)\n",
    "\n",
    "    # ---- server main ----\n",
    "    srv = socket.socket(socket.AF_INET, socket.SOCK_STREAM)\n",
    "    srv.bind((HOST, PORT))\n",
    "    srv.listen(1)\n",
    "    conn, _ = srv.accept()\n",
    "\n",
    "    # 2.1 read fixed 8-byte header   (uint16 layer | uint16 n_rows | uint16 n_cols | padding)\n",
    "    hdr = recvall(conn, 8)\n",
    "    layer_idx, n_rows, n_cols = struct.unpack(\"<HHH2x\", hdr)\n",
    "\n",
    "    # 2.2 compute how many bytes to expect for the two tensors\n",
    "    bytes_A = n_rows * d * 2              # fp16 → 2 B each\n",
    "    bytes_C = n_rows * n_cols * 2\n",
    "    payload = recvall(conn, bytes_A + bytes_C)\n",
    "\n",
    "    # 2.3 slice + reshape\n",
    "    A_rows = np.frombuffer(payload[:bytes_A], dtype=np.float16).reshape(n_rows, d)\n",
    "    C_vals = np.frombuffer(payload[bytes_A:], dtype=np.float16).reshape(n_rows, n_cols)\n",
    "\n",
    "    # 2.4 regenerate PRNG mask (must match prover’s)\n",
    "    rng = random.Random(GLOBAL_SEED)                  # same seed\n",
    "    row_idx_v = torch.tensor(rng.sample(range(d), n_rows))\n",
    "    col_idx_v = torch.tensor(rng.sample(range(d), n_cols))\n",
    "\n",
    "    # 2.5 recompute C = A @ B  for the masked entries\n",
    "    B_sub   = B_public[:, col_idx_v]                  # 4000 × 40\n",
    "    recomputed = torch.from_numpy(A_rows.astype(np.float32)) @ B_sub  # 4 × 40\n",
    "\n",
    "    ok = torch.allclose(recomputed.half(), torch.from_numpy(C_vals), atol=1e-3, rtol=1e-3)\n",
    "    print(f\"[Verifier] layer {layer_idx}  passed? {ok}\")\n",
    "    conn.close()\n",
    "    srv.close()\n",
    "\n",
    "# launch verifier thread\n",
    "threading.Thread(target=verifier_server, args=(B, d), daemon=True).start()\n",
    "time.sleep(0.1)          # give the listener a moment\n",
    "\n",
    "# ---------------- 3.  PROVER SENDS ITS BLOB  ----------------------\n",
    "def prover_send(sampled_A, sampled_C):\n",
    "    n_rows, _ = sampled_A.shape\n",
    "    _,      n_cols   = sampled_C.shape\n",
    "\n",
    "    # 3.1 flatten to raw bytes (little-endian fp16)\n",
    "    buf_A = sampled_A.cpu().numpy().astype(np.float16).tobytes()\n",
    "    buf_C = sampled_C.cpu().numpy().astype(np.float16).tobytes()\n",
    "\n",
    "    # 3.2 8-byte header: layer | n_rows | n_cols\n",
    "    hdr = struct.pack(\"<HHH2x\", LAYER_IDX, n_rows, n_cols)\n",
    "\n",
    "    with socket.create_connection((HOST, PORT)) as s:\n",
    "        s.sendall(hdr + buf_A + buf_C)    # one shot; OS chunks as needed\n",
    "\n",
    "prover_send(sampled_A, sampled_C)\n",
    "\n",
    "# tiny sleep so the verifier thread can print before script exits\n",
    "time.sleep(0.2)\n"
   ]
  },
  {
   "cell_type": "code",
   "execution_count": 52,
   "metadata": {},
   "outputs": [
    {
     "name": "stdout",
     "output_type": "stream",
     "text": [
      "<random.Random object at 0x13cf9ac20>\n"
     ]
    }
   ],
   "source": [
    "print(random.Random(GLOBAL_SEED))"
   ]
  },
  {
   "cell_type": "code",
   "execution_count": 54,
   "metadata": {},
   "outputs": [
    {
     "data": {
      "text/plain": [
       "0.6394267984578837"
      ]
     },
     "execution_count": 54,
     "metadata": {},
     "output_type": "execute_result"
    }
   ],
   "source": [
    "rng = random.Random(GLOBAL_SEED)\n",
    "rng.random()"
   ]
  },
  {
   "cell_type": "code",
   "execution_count": 55,
   "metadata": {},
   "outputs": [
    {
     "data": {
      "text/plain": [
       "0.6394267984578837"
      ]
     },
     "execution_count": 55,
     "metadata": {},
     "output_type": "execute_result"
    }
   ],
   "source": [
    "rng = random.Random(GLOBAL_SEED)\n",
    "rng.random()"
   ]
  },
  {
   "cell_type": "code",
   "execution_count": null,
   "metadata": {},
   "outputs": [],
   "source": []
  }
 ],
 "metadata": {
  "kernelspec": {
   "display_name": "base",
   "language": "python",
   "name": "python3"
  },
  "language_info": {
   "codemirror_mode": {
    "name": "ipython",
    "version": 3
   },
   "file_extension": ".py",
   "mimetype": "text/x-python",
   "name": "python",
   "nbconvert_exporter": "python",
   "pygments_lexer": "ipython3",
   "version": "3.12.4"
  }
 },
 "nbformat": 4,
 "nbformat_minor": 2
}
